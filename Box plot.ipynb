{
 "cells": [
  {
   "cell_type": "markdown",
   "id": "900ea98a-e621-4fdc-9e72-5759a87701c3",
   "metadata": {},
   "source": [
    "# UNAH\n",
    "## Facultad de Ingenieria\n",
    "## Carrera de Ingenieria en sistemas\n",
    "### Clase: Inteligencia Artificial\n",
    "\n",
    "*Prueba*"
   ]
  },
  {
   "cell_type": "code",
   "execution_count": 1,
   "id": "d89d7223-d7bc-4a2f-b8e2-7777b3abbbc9",
   "metadata": {},
   "outputs": [],
   "source": [
    "import pandas as pd\n",
    "import numpy as np"
   ]
  },
  {
   "cell_type": "markdown",
   "id": "a6101627-a1bb-41ae-9a9c-6597e20ed26b",
   "metadata": {},
   "source": [
    "Segun el siguiente Dataset:"
   ]
  },
  {
   "cell_type": "code",
   "execution_count": 2,
   "id": "129c774e-4da0-4b46-918a-19e51df03fe3",
   "metadata": {},
   "outputs": [],
   "source": [
    "pd_vector = pd.DataFrame( { \"num\" : range(1,101) } )"
   ]
  },
  {
   "cell_type": "code",
   "execution_count": 3,
   "id": "48d3c5b7-be61-4c2f-ada7-d9766b5d82db",
   "metadata": {},
   "outputs": [
    {
     "data": {
      "text/html": [
       "<div>\n",
       "<style scoped>\n",
       "    .dataframe tbody tr th:only-of-type {\n",
       "        vertical-align: middle;\n",
       "    }\n",
       "\n",
       "    .dataframe tbody tr th {\n",
       "        vertical-align: top;\n",
       "    }\n",
       "\n",
       "    .dataframe thead th {\n",
       "        text-align: right;\n",
       "    }\n",
       "</style>\n",
       "<table border=\"1\" class=\"dataframe\">\n",
       "  <thead>\n",
       "    <tr style=\"text-align: right;\">\n",
       "      <th></th>\n",
       "      <th>num</th>\n",
       "    </tr>\n",
       "  </thead>\n",
       "  <tbody>\n",
       "    <tr>\n",
       "      <th>0</th>\n",
       "      <td>1</td>\n",
       "    </tr>\n",
       "    <tr>\n",
       "      <th>1</th>\n",
       "      <td>2</td>\n",
       "    </tr>\n",
       "    <tr>\n",
       "      <th>2</th>\n",
       "      <td>3</td>\n",
       "    </tr>\n",
       "    <tr>\n",
       "      <th>3</th>\n",
       "      <td>4</td>\n",
       "    </tr>\n",
       "    <tr>\n",
       "      <th>4</th>\n",
       "      <td>5</td>\n",
       "    </tr>\n",
       "    <tr>\n",
       "      <th>...</th>\n",
       "      <td>...</td>\n",
       "    </tr>\n",
       "    <tr>\n",
       "      <th>95</th>\n",
       "      <td>96</td>\n",
       "    </tr>\n",
       "    <tr>\n",
       "      <th>96</th>\n",
       "      <td>97</td>\n",
       "    </tr>\n",
       "    <tr>\n",
       "      <th>97</th>\n",
       "      <td>98</td>\n",
       "    </tr>\n",
       "    <tr>\n",
       "      <th>98</th>\n",
       "      <td>99</td>\n",
       "    </tr>\n",
       "    <tr>\n",
       "      <th>99</th>\n",
       "      <td>100</td>\n",
       "    </tr>\n",
       "  </tbody>\n",
       "</table>\n",
       "<p>100 rows × 1 columns</p>\n",
       "</div>"
      ],
      "text/plain": [
       "    num\n",
       "0     1\n",
       "1     2\n",
       "2     3\n",
       "3     4\n",
       "4     5\n",
       "..  ...\n",
       "95   96\n",
       "96   97\n",
       "97   98\n",
       "98   99\n",
       "99  100\n",
       "\n",
       "[100 rows x 1 columns]"
      ]
     },
     "execution_count": 3,
     "metadata": {},
     "output_type": "execute_result"
    }
   ],
   "source": [
    "pd_vector"
   ]
  },
  {
   "cell_type": "markdown",
   "id": "68d2dfb1-9c1f-4116-89c5-05e2171c7018",
   "metadata": {},
   "source": [
    "Y segun los siguientes metodos de numpy"
   ]
  },
  {
   "cell_type": "code",
   "execution_count": 4,
   "id": "81d3dd14-6205-421a-9cf9-031027c6a213",
   "metadata": {},
   "outputs": [
    {
     "data": {
      "text/plain": [
       "833.25"
      ]
     },
     "execution_count": 4,
     "metadata": {},
     "output_type": "execute_result"
    }
   ],
   "source": [
    "np.var( pd_vector[\"num\"] ) ## Calcula la varianza"
   ]
  },
  {
   "cell_type": "code",
   "execution_count": 5,
   "id": "4b17ddd3-044d-4328-9f34-03bde615cc7a",
   "metadata": {},
   "outputs": [
    {
     "data": {
      "text/plain": [
       "28.86607004772212"
      ]
     },
     "execution_count": 5,
     "metadata": {},
     "output_type": "execute_result"
    }
   ],
   "source": [
    "np.std( pd_vector[\"num\"] ) ## Calcula la desviacion estandard"
   ]
  },
  {
   "cell_type": "markdown",
   "id": "b0db84f8-c351-41db-b981-336b6738b19b",
   "metadata": {},
   "source": [
    "## Responda las siguientes ejercicios"
   ]
  },
  {
   "cell_type": "markdown",
   "id": "5d99d524-4a87-4fbf-a2b8-436a6cb4ddcd",
   "metadata": {},
   "source": [
    "1. Grafique el Boxplot del vector \"num\""
   ]
  },
  {
   "cell_type": "code",
   "execution_count": 12,
   "id": "f36238bb-56d3-4bdb-9108-bb652a2c2f9c",
   "metadata": {},
   "outputs": [
    {
     "data": {
      "image/png": "[encoded data removed]",
      "text/plain": [
       "<Figure size 432x288 with 1 Axes>"
      ]
     },
     "metadata": {
      "needs_background": "light"
     },
     "output_type": "display_data"
    }
   ],
   "source": [
    "pd_vector = pd.DataFrame( { \"num\" : range(1,101) } ).boxplot()"
   ]
  },
  {
   "cell_type": "markdown",
   "id": "c3011ce8-15f1-4b3b-b7ab-44172bf7c8a2",
   "metadata": {},
   "source": [
    "2. Calcule la varianza y desviacion estandard de cada uno de los quartiles\n",
    "\n",
    "Nota: realice manual la divicion del dataset para obtener cada uno de quartiles, al final obtendra cuatro dataframes"
   ]
  },
  {
   "cell_type": "markdown",
   "id": "ae091ceb-3b67-4920-9bbe-5cb00a4a80c9",
   "metadata": {},
   "source": [
    "Cuartiles"
   ]
  },
  {
   "cell_type": "code",
   "execution_count": 15,
   "id": "5d2bf088-f016-4c08-89f4-a874edd5f10b",
   "metadata": {},
   "outputs": [],
   "source": [
    "pd_vector = pd.DataFrame( { \"num\" : range(1,101) } )\n",
    "Q1 = np.quantile(pd_vector,0.25)\n",
    "Q2 = np.quantile(pd_vector,0.50)\n",
    "Q3 = np.quantile(pd_vector,0.75)\n",
    "Q4 = np.quantile(pd_vector,1)"
   ]
  },
  {
   "cell_type": "markdown",
   "id": "c607ccef-4724-442a-8676-08aa0df82c93",
   "metadata": {},
   "source": [
    "Cuartiles"
   ]
  },
  {
   "cell_type": "code",
   "execution_count": 43,
   "id": "ee318c70-0181-4ebf-97f0-e5b0eb763a1e",
   "metadata": {},
   "outputs": [
    {
     "name": "stdout",
     "output_type": "stream",
     "text": [
      "Cuartil 1:  25.75\n"
     ]
    }
   ],
   "source": [
    "print(\"Cuartil 1: \",Q1)"
   ]
  },
  {
   "cell_type": "code",
   "execution_count": 42,
   "id": "62592728-1eef-4115-afc7-4d030f994354",
   "metadata": {},
   "outputs": [
    {
     "name": "stdout",
     "output_type": "stream",
     "text": [
      "Cuartil 2:  50.5\n"
     ]
    }
   ],
   "source": [
    "print(\"Cuartil 2: \",Q2)"
   ]
  },
  {
   "cell_type": "code",
   "execution_count": 41,
   "id": "2aa9f2b6-8e78-455c-bc03-c5fe9e332ba4",
   "metadata": {},
   "outputs": [
    {
     "name": "stdout",
     "output_type": "stream",
     "text": [
      "Cuartil 3:  75.25\n"
     ]
    }
   ],
   "source": [
    "print(\"Cuartil 3: \",Q3)"
   ]
  },
  {
   "cell_type": "code",
   "execution_count": 40,
   "id": "1c400eb6-8a83-4ce1-85f0-7e8bf1895ab5",
   "metadata": {},
   "outputs": [
    {
     "name": "stdout",
     "output_type": "stream",
     "text": [
      "Cuartil 4:  100\n"
     ]
    }
   ],
   "source": [
    "print(\"Cuartil 4: \",Q4)"
   ]
  },
  {
   "cell_type": "markdown",
   "id": "b81d3069-80e3-4ef0-91d6-babaf5b5a04d",
   "metadata": {},
   "source": [
    "IQR"
   ]
  },
  {
   "cell_type": "code",
   "execution_count": 39,
   "id": "da24484d-3056-47f5-82c6-24bc72cd5111",
   "metadata": {},
   "outputs": [
    {
     "data": {
      "text/plain": [
       "49.5"
      ]
     },
     "execution_count": 39,
     "metadata": {},
     "output_type": "execute_result"
    }
   ],
   "source": [
    "iqr = Q3 - Q1\n",
    "iqr"
   ]
  },
  {
   "cell_type": "markdown",
   "id": "498132fc-0684-496c-aeae-b351321dd3f8",
   "metadata": {},
   "source": [
    "Varianza"
   ]
  },
  {
   "cell_type": "code",
   "execution_count": 58,
   "id": "16d2ad50-dc0b-4fc1-a9b1-02e3449062c2",
   "metadata": {},
   "outputs": [
    {
     "data": {
      "text/plain": [
       "num    841.666667\n",
       "dtype: float64"
      ]
     },
     "execution_count": 58,
     "metadata": {},
     "output_type": "execute_result"
    }
   ],
   "source": [
    "var1 = np.var(pd_vector, ddof=1)\n",
    "var1"
   ]
  },
  {
   "cell_type": "code",
   "execution_count": 59,
   "id": "e748cf85-9fd7-4818-a5f1-bfdf830f5d54",
   "metadata": {},
   "outputs": [
    {
     "data": {
      "text/plain": [
       "num    850.255102\n",
       "dtype: float64"
      ]
     },
     "execution_count": 59,
     "metadata": {},
     "output_type": "execute_result"
    }
   ],
   "source": [
    "var2 = np.var(pd_vector, ddof=2)\n",
    "var2"
   ]
  },
  {
   "cell_type": "code",
   "execution_count": 60,
   "id": "779f9ee0-029a-425e-81bc-c34fd92a0b4f",
   "metadata": {},
   "outputs": [
    {
     "data": {
      "text/plain": [
       "num    859.020619\n",
       "dtype: float64"
      ]
     },
     "execution_count": 60,
     "metadata": {},
     "output_type": "execute_result"
    }
   ],
   "source": [
    "var3 = np.var(pd_vector, ddof=3)\n",
    "var3"
   ]
  },
  {
   "cell_type": "code",
   "execution_count": 61,
   "id": "e8ec5e90-d827-4d38-a8cf-2e1b5d7530f2",
   "metadata": {},
   "outputs": [
    {
     "data": {
      "text/plain": [
       "num    867.96875\n",
       "dtype: float64"
      ]
     },
     "execution_count": 61,
     "metadata": {},
     "output_type": "execute_result"
    }
   ],
   "source": [
    "var4 = np.var(pd_vector, ddof=4)\n",
    "var4"
   ]
  },
  {
   "cell_type": "markdown",
   "id": "39e6d9f2-2a25-4f65-9c4f-99b9c4557ea8",
   "metadata": {},
   "source": [
    "Desviación Estándar"
   ]
  },
  {
   "cell_type": "code",
   "execution_count": 62,
   "id": "4c50daec-ef67-4360-9ff6-02a55de3d02f",
   "metadata": {},
   "outputs": [
    {
     "data": {
      "text/plain": [
       "num    29.011492\n",
       "dtype: float64"
      ]
     },
     "execution_count": 62,
     "metadata": {},
     "output_type": "execute_result"
    }
   ],
   "source": [
    "std1 = np.std(pd_vector, ddof=1)\n",
    "std1 "
   ]
  },
  {
   "cell_type": "code",
   "execution_count": 63,
   "id": "5efe4e90-d691-4690-ba5b-9da2b30f6a7a",
   "metadata": {},
   "outputs": [
    {
     "data": {
      "text/plain": [
       "num    29.159134\n",
       "dtype: float64"
      ]
     },
     "execution_count": 63,
     "metadata": {},
     "output_type": "execute_result"
    }
   ],
   "source": [
    "std2 = np.std(pd_vector, ddof=2)\n",
    "std2"
   ]
  },
  {
   "cell_type": "code",
   "execution_count": 64,
   "id": "dfc719c6-3aed-45b8-8c94-79befff0175b",
   "metadata": {},
   "outputs": [
    {
     "data": {
      "text/plain": [
       "num    29.309054\n",
       "dtype: float64"
      ]
     },
     "execution_count": 64,
     "metadata": {},
     "output_type": "execute_result"
    }
   ],
   "source": [
    "std3 = np.std(pd_vector, ddof=3)\n",
    "std3"
   ]
  },
  {
   "cell_type": "code",
   "execution_count": 65,
   "id": "a8c65e33-a7d5-475b-bc14-33cbd10f890c",
   "metadata": {},
   "outputs": [
    {
     "data": {
      "text/plain": [
       "num    29.461309\n",
       "dtype: float64"
      ]
     },
     "execution_count": 65,
     "metadata": {},
     "output_type": "execute_result"
    }
   ],
   "source": [
    "std4 = np.std(pd_vector, ddof=4)\n",
    "std4"
   ]
  },
  {
   "cell_type": "markdown",
   "id": "b1aac673-aa4f-40c4-8ae2-364247dcaad1",
   "metadata": {},
   "source": [
    "3. Explique la respuesta que obtuvo en el ejercicio dos, recuerde que se puede apoyar del grafico del ejercicio uno para hacer referencias sobre distribucion en caso de que sea necesario."
   ]
  },
  {
   "cell_type": "markdown",
   "id": "f2edaecf-5f74-4f02-b284-8a80b81df537",
   "metadata": {},
   "source": [
    "Varianza y desviación estándar\n",
    "--- \n",
    "Para el cálculo de la varianza se hizo el uso de la función \"var\" y \"std\" ya predefinida por numpy, en el caso que se pide encontrar la varianza y desviación estándar para cada uno de los cuartiles, entonces dentro de la función se colocó un nuevo parámetro que es el ddof, este se indica para el uso de la varianza y desviación estándar muestral que indica la cantidad de saltos que hará la función para encontrar cada uno de sus valores.\n"
   ]
  }
 ],
 "metadata": {
  "kernelspec": {
   "display_name": "Python 3 (ipykernel)",
   "language": "python",
   "name": "python3"
  },
  "language_info": {
   "codemirror_mode": {
    "name": "ipython",
    "version": 3
   },
   "file_extension": ".py",
   "mimetype": "text/x-python",
   "name": "python",
   "nbconvert_exporter": "python",
   "pygments_lexer": "ipython3",
   "version": "3.9.12"
  }
 },
 "nbformat": 4,
 "nbformat_minor": 5
}
